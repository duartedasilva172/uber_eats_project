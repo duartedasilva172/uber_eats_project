{
 "cells": [
  {
   "cell_type": "code",
   "execution_count": 36,
   "id": "f74f20bb",
   "metadata": {},
   "outputs": [],
   "source": [
    "import os\n",
    "import pandas as pd\n",
    "from datetime import datetime\n",
    "import numpy as np\n",
    "import matplotlib.pyplot as plt\n",
    "import requests"
   ]
  },
  {
   "cell_type": "markdown",
   "id": "d5491ca5",
   "metadata": {},
   "source": [
    "# Uber Eats Data Collection & Analysis\n",
    "\n",
    "This Jupyter Notebook serves as both a personal journal for tracking my Uber Eats side gig and a passion project to sharpen my skills in Python, NumPy, and pandas. It’s designed to help me improve in data entry, organization, and basic data analysis.\n",
    "\n",
    "To start, I’ve defined two core data tables: Sessions and Trips.\n",
    "\n",
    "### Sessions Table Structure\n",
    "\n",
    "Column\tDescription\n",
    "date\t         | Date of the Uber Eats session\n",
    "start_time       | Time the session began\n",
    "trips\t         | Number of deliveries completed\n",
    "total_earned     | Total income for the session (USD)\n",
    "end_time\t     | Time the session ended\n",
    "shift_length_hrs | Duration of the session (HH:MM)\n",
    "device_used\t     | Device used for the session (e.g., iPhone 13 Pro Max)\n",
    "\n",
    "This table will help me monitor daily earnings, hours worked, and calculate hourly efficiency over time.\n",
    "\n",
    "### Trips Table Structure\n",
    "\n",
    "Column\tDescription\n",
    "restaurant_name\t | Source of the delivery\n",
    "trip_duration\t | Duration of the delivery (hours:minutes)\n",
    "mileage\t         | Distance traveled (miles)\n",
    "delivery_zone\t | Area or neighborhood of delivery\n",
    "tip\t             | Tip received (USD)\n",
    "total_earnings\t | Total income from the trip (base + tip)\n",
    "\n",
    "\n",
    "This table is focused on identifying which restaurants, delivery zones, and trip lengths tend to be most profitable.\n"
   ]
  },
  {
   "cell_type": "code",
   "execution_count": null,
   "id": "6216ed48",
   "metadata": {},
   "outputs": [],
   "source": [
    "# Build Data Entry Function\n",
    "\n",
    "# Step 1 Initial DataFrame\n",
    "\n",
    "uber_sessions_df = pd.DataFrame(columns=['session_id', 'date', 'start_time','trips', 'total_earned',\n",
    "                                 'end_time', 'shift_length_hrs', 'device_used'\n",
    "])\n"
   ]
  },
  {
   "cell_type": "code",
   "execution_count": 38,
   "id": "c8cc29c3",
   "metadata": {},
   "outputs": [
    {
     "ename": "TypeError",
     "evalue": "add_uber_session() missing 1 required positional argument: 'shift_length_hrs'",
     "output_type": "error",
     "traceback": [
      "\u001b[0;31m---------------------------------------------------------------------------\u001b[0m",
      "\u001b[0;31mTypeError\u001b[0m                                 Traceback (most recent call last)",
      "Cell \u001b[0;32mIn[38], line 24\u001b[0m\n\u001b[1;32m     21\u001b[0m     \u001b[38;5;28;01mreturn\u001b[39;00m pd\u001b[38;5;241m.\u001b[39mconcat([uber_sessions_df, pd\u001b[38;5;241m.\u001b[39mDataFrame([new_row])], ignore_index\u001b[38;5;241m=\u001b[39m\u001b[38;5;28;01mTrue\u001b[39;00m)\n\u001b[1;32m     23\u001b[0m \u001b[38;5;66;03m# Example Usage\u001b[39;00m\n\u001b[0;32m---> 24\u001b[0m uber_sessions_df \u001b[38;5;241m=\u001b[39m \u001b[43madd_uber_session\u001b[49m\u001b[43m(\u001b[49m\n\u001b[1;32m     25\u001b[0m \u001b[43m    \u001b[49m\u001b[43muber_sessions_df\u001b[49m\u001b[43m,\u001b[49m\n\u001b[1;32m     26\u001b[0m \u001b[43m    \u001b[49m\u001b[43msession_id\u001b[49m\u001b[38;5;241;43m=\u001b[39;49m\u001b[38;5;124;43m'\u001b[39;49m\u001b[38;5;124;43m1\u001b[39;49m\u001b[38;5;124;43m'\u001b[39;49m\u001b[43m,\u001b[49m\n\u001b[1;32m     27\u001b[0m \u001b[43m    \u001b[49m\u001b[43mdate\u001b[49m\u001b[38;5;241;43m=\u001b[39;49m\u001b[38;5;124;43m'\u001b[39;49m\u001b[38;5;124;43m2025-6-6\u001b[39;49m\u001b[38;5;124;43m'\u001b[39;49m\u001b[43m,\u001b[49m\n\u001b[1;32m     28\u001b[0m \u001b[43m    \u001b[49m\u001b[43mstart_time\u001b[49m\u001b[38;5;241;43m=\u001b[39;49m\u001b[38;5;124;43m'\u001b[39;49m\u001b[38;5;124;43m5:33 PM\u001b[39;49m\u001b[38;5;124;43m'\u001b[39;49m\u001b[43m,\u001b[49m\n\u001b[1;32m     29\u001b[0m \u001b[43m    \u001b[49m\u001b[43mtrips\u001b[49m\u001b[38;5;241;43m=\u001b[39;49m\u001b[38;5;124;43m'\u001b[39;49m\u001b[38;5;124;43m12\u001b[39;49m\u001b[38;5;124;43m'\u001b[39;49m\u001b[43m,\u001b[49m\u001b[43m \u001b[49m\n\u001b[1;32m     30\u001b[0m \u001b[43m    \u001b[49m\u001b[43mtotal_earned\u001b[49m\u001b[38;5;241;43m=\u001b[39;49m\u001b[38;5;124;43m'\u001b[39;49m\u001b[38;5;124;43m58.60\u001b[39;49m\u001b[38;5;124;43m'\u001b[39;49m\u001b[43m,\u001b[49m\n\u001b[1;32m     31\u001b[0m \u001b[43m    \u001b[49m\u001b[43mend_time\u001b[49m\u001b[38;5;241;43m=\u001b[39;49m\u001b[38;5;124;43m'\u001b[39;49m\u001b[38;5;124;43m9:50 PM\u001b[39;49m\u001b[38;5;124;43m'\u001b[39;49m\u001b[43m,\u001b[49m\n\u001b[1;32m     32\u001b[0m \u001b[43m    \u001b[49m\u001b[43mdevice_used\u001b[49m\u001b[38;5;241;43m=\u001b[39;49m\u001b[38;5;124;43m'\u001b[39;49m\u001b[38;5;124;43miPhone 13 Pro Max\u001b[39;49m\u001b[38;5;124;43m'\u001b[39;49m\n\u001b[1;32m     33\u001b[0m \u001b[43m)\u001b[49m\n\u001b[1;32m     34\u001b[0m uber_sessions_df       \n",
      "\u001b[0;31mTypeError\u001b[0m: add_uber_session() missing 1 required positional argument: 'shift_length_hrs'"
     ]
    }
   ],
   "source": [
    "# Step 2 Build Function to add Data\n",
    "\n",
    "def add_uber_session(uber_sessions_df, session_id, date, start_time, trips, total_earned, end_time, shift_length_hrs, device_used):\n",
    "    session_id = len(uber_sessions_df) + 1 # Auto-increment\n",
    "\n",
    "    start_dt = datetime.strptime(f\"{date} {start_time}\", \"%Y-%m-%d %I:%M %p\")\n",
    "    end_dt = datetime.strptime(f\"{date} {end_time}\", \"%Y-%m-%d %I:%M %p\")\n",
    "\n",
    "    shift_length_hrs = round((end_dt - start_dt).total_seconds() / 3600, 2)\n",
    "  \n",
    "    new_row = {\n",
    "        'session_id':session_id,\n",
    "        'date':date,\n",
    "        'start_time': start_time,\n",
    "        'trips': int(trips),\n",
    "        'total_earned': float(total_earned),\n",
    "        'end_time': end_time,\n",
    "        'shift_length_hrs': shift_length_hrs,\n",
    "        'device_used': device_used\n",
    "    }\n",
    "    return pd.concat([uber_sessions_df, pd.DataFrame([new_row])], ignore_index=True)\n",
    "\n",
    "# Example Usage\n",
    "uber_sessions_df = add_uber_session(\n",
    "    uber_sessions_df,\n",
    "    session_id='1',\n",
    "    date='2025-6-6',\n",
    "    start_time='5:33 PM',\n",
    "    trips='12', \n",
    "    total_earned='58.60',\n",
    "    end_time='9:50 PM',\n",
    "    device_used='iPhone 13 Pro Max'\n",
    ")\n",
    "uber_sessions_df       \n",
    "\n"
   ]
  },
  {
   "cell_type": "code",
   "execution_count": null,
   "id": "591ca748",
   "metadata": {},
   "outputs": [],
   "source": [
    "# Build Trips Table\n",
    "\n",
    "# Step 1: initial Data frame\n",
    "\n",
    "uber_trips_df = pd.DataFrame(columns=['session_id','restaurant_name', 'trip_duration', 'mileage', 'delivery_zone', 'tip', 'total_earnings'])"
   ]
  },
  {
   "cell_type": "code",
   "execution_count": null,
   "id": "64af8bbd",
   "metadata": {},
   "outputs": [],
   "source": [
    "# Step 2 Build Function to add Data\n",
    "\n",
    "def add_uber_trip(uber_trips_df, session_id, restaurant_name, trip_duration, mileage, delivery_zone, tip, total_earnings):\n",
    "    new_row_trips = {\n",
    "        'session_id': session_id,\n",
    "        'restaurant_name':restaurant_name,\n",
    "        'trip_duration':trip_duration,\n",
    "        'mileage':mileage,\n",
    "        'delivery_zone':delivery_zone,\n",
    "        'tip':tip,\n",
    "        'total_earnings': total_earnings\n",
    "    }\n",
    "    return pd.concat([uber_trips_df, pd.DataFrame([new_row_trips])], ignore_index=True)\n",
    "\n",
    "uber_trips_df = add_uber_trip(uber_trips_df, '' )"
   ]
  }
 ],
 "metadata": {
  "kernelspec": {
   "display_name": "Python 3",
   "language": "python",
   "name": "python3"
  },
  "language_info": {
   "codemirror_mode": {
    "name": "ipython",
    "version": 3
   },
   "file_extension": ".py",
   "mimetype": "text/x-python",
   "name": "python",
   "nbconvert_exporter": "python",
   "pygments_lexer": "ipython3",
   "version": "3.9.6"
  }
 },
 "nbformat": 4,
 "nbformat_minor": 5
}

